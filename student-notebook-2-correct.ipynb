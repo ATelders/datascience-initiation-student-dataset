{
 "cells": [
  {
   "cell_type": "markdown",
   "id": "eac00843",
   "metadata": {},
   "source": [
    "![student studying](https://images.unsplash.com/photo-1434030216411-0b793f4b4173?ixlib=rb-1.2.1&ixid=MnwxMjA3fDB8MHxwaG90by1wYWdlfHx8fGVufDB8fHx8&auto=format&fit=crop&w=1470&q=80)\n",
    "\n",
    "Photo by [Green Chameleon](https://unsplash.com/@craftedbygc?utm_source=unsplash&utm_medium=referral&utm_content=creditCopyText) on [Unsplash](https://unsplash.com/s/photos/study?utm_source=unsplash&utm_medium=referral&utm_content=creditCopyText)\n",
    "# Modélisation des résultats aux examens de 3ème trimestre\n",
    "---\n",
    "## Correction des données\n",
    "Lors de l'exploration des données, nous avons identifié que plusieurs étudiants avaient des âges incohérents, égaux à 0 ou bien trop élevés (= 80 ans).\n",
    "\n",
    "Nous devons donc corriger ces valeurs avant de demander à un algorithme de construire un modèle de prédiction. En effet, s'il prend en compte des valeurs erronées, sa précision sera impactée et diminuée.\n",
    "\n",
    "---"
   ]
  },
  {
   "cell_type": "markdown",
   "id": "08de22a7",
   "metadata": {},
   "source": [
    "## Import du jeu de données\n",
    "\n",
    "Comme précédemment, nous importons la librairie Pandas et le jeu de données initial :\n",
    "\n",
    "```\n",
    "import pandas as pd\n",
    "\n",
    "df = pd.read_csv(\"./student-1-start.csv\")\n",
    "df\n",
    "```"
   ]
  },
  {
   "cell_type": "code",
   "execution_count": null,
   "id": "eebb95b1",
   "metadata": {},
   "outputs": [],
   "source": [
    "# Insère ton code ci-dessous et exécute la cellule\n"
   ]
  },
  {
   "cell_type": "markdown",
   "id": "28b23459",
   "metadata": {},
   "source": [
    "## Correction de la colonne âge\n",
    "Tout d'abord, nous pouvons évaluer combien de valeurs semblent incohérentes. Nous allons utiliser la fonction \"value_counts\" qui va nous renvoyer le nombre d'occurrences dans une colonne.\n",
    "\n",
    "\n",
    "```\n",
    "df[\"age\"].value_counts()\n",
    "```"
   ]
  },
  {
   "cell_type": "code",
   "execution_count": null,
   "id": "e8aa7e4b",
   "metadata": {},
   "outputs": [],
   "source": [
    "# Insère ton code ci-dessous et exécute la cellule\n"
   ]
  },
  {
   "cell_type": "markdown",
   "id": "d5c7e5de",
   "metadata": {},
   "source": [
    "Nous pouvons voir que l'âge le plus commun au sein de la colonne et \"16 ans\" avec 101 occurrences, suivi de 17 et 15 ans.\n",
    "\n",
    "Nous remarquons aussi 2 incohérences :\n",
    "* 12 étudiants ont un âge à 0\n",
    "* 1 étudiant est supposément âgé de 80 ans\n",
    "\n",
    "Nous devons donc corriger ces 2 valeurs.\n",
    "\n",
    "**Question : Quelle(s) valeur(s) te semblerai(en)t appropriée(s) pour remplacer ces âges erronés ?**\n",
    "\n",
    "Lorsque tu penses avoir trouvé une solution, valide-la avec ton référent avant de passer à la suite.\n",
    "\n",
    "---"
   ]
  },
  {
   "cell_type": "markdown",
   "id": "d8df5fac",
   "metadata": {},
   "source": [
    "## Imputation de données\n",
    "\n",
    "Avant de te lancer dans la correction de données, il faut que tu puisses maitriser la sélection de données dans Pandas. Clique sur le lien ci-dessous qui t'expliquera tout cela avec un exemple simple :\n",
    "\n",
    "[Tutorial Sélection de Données via Pandas](./student-notebook-2-pandas-data-selection.ipynb)\n",
    "\n",
    "---\n",
    "\n",
    "Maintenant que tu maitrises la sélection de données, cherche à afficher les lignes où l'âge des étudiants est égal à 0 :"
   ]
  },
  {
   "cell_type": "code",
   "execution_count": null,
   "id": "0a2a3b1f",
   "metadata": {},
   "outputs": [],
   "source": [
    "# Insère ton code ci-dessous et exécute la cellule\n"
   ]
  },
  {
   "cell_type": "markdown",
   "id": "08dd84ef",
   "metadata": {},
   "source": [
    "Normalement, tu dois trouver 12 lignes dans ton tableau !\n",
    "\n",
    "Maintenant que tu sais sélectionner les lignes erronées, il faut que tu inscrives le code pour changer leur valeur. Comme c'est une opération compliquée, fais vérifier ton code par ton référent avant de l'exécuter.\n",
    "\n",
    "Rappel de la syntaxe :\n",
    "\n",
    "```\n",
    "df.loc[condition, colonne à mettre à jour] = valeur corrigée\n",
    "```\n",
    "\n"
   ]
  },
  {
   "cell_type": "code",
   "execution_count": null,
   "id": "70f0bc08",
   "metadata": {},
   "outputs": [],
   "source": [
    "# Insère ton code ci-dessous et exécute la cellule\n"
   ]
  },
  {
   "cell_type": "markdown",
   "id": "c18d1545",
   "metadata": {},
   "source": [
    "Tu peux à nouveau utiliser la fonction \"value_counts\" pour vérifier que les âges égaux à 0 ont bien disparu :\n",
    "\n",
    "```\n",
    "df[\"age\"].value_counts()\n",
    "```"
   ]
  },
  {
   "cell_type": "code",
   "execution_count": null,
   "id": "0040f65f",
   "metadata": {},
   "outputs": [],
   "source": [
    "# Insère ton code ci-dessous et exécute la cellule\n"
   ]
  },
  {
   "cell_type": "markdown",
   "id": "0f4b5cfd",
   "metadata": {},
   "source": [
    "Maintenant, tu peux répéter la même opération pour corriger les âges égaux à 80 ans !"
   ]
  },
  {
   "cell_type": "code",
   "execution_count": null,
   "id": "a06d89fe",
   "metadata": {},
   "outputs": [],
   "source": [
    "# Cellule 1 - Pour vérifier que tu arrives bien à sélectionner les lignes\n",
    "# Insère ton code ci-dessous et exécute la cellule\n"
   ]
  },
  {
   "cell_type": "code",
   "execution_count": null,
   "id": "2e20448a",
   "metadata": {},
   "outputs": [],
   "source": [
    "# Cellule 2 - Pour corriger les valeurs\n",
    "# Insère ton code ci-dessous et exécute la cellule\n"
   ]
  },
  {
   "cell_type": "code",
   "execution_count": null,
   "id": "dbdb1e53",
   "metadata": {},
   "outputs": [],
   "source": [
    "# Cellule 3 - Pour vérifier que les valeurs erronées ont bien disparu\n",
    "# Insère ton code ci-dessous et exécute la cellule\n"
   ]
  },
  {
   "cell_type": "markdown",
   "id": "474bf65c",
   "metadata": {},
   "source": [
    "Nous pouvons même tracer à nouveau l'histogramme pour vérifier que la distribution des âges nous semble plus \"logique\". Tu peux directement exécuter le code de la cellule ci-dessous."
   ]
  },
  {
   "cell_type": "code",
   "execution_count": null,
   "id": "80ad9972",
   "metadata": {},
   "outputs": [],
   "source": [
    "# Cellule à exécuter\n",
    "import matplotlib.pyplot as plt\n",
    "plt.rcParams[\"figure.figsize\"] = (8, 8)\n",
    "plt.hist(df[\"age\"], bins=15)\n",
    "plt.xlabel(\"Age des étudiants\")  \n",
    "plt.ylabel(\"Nombre d'étudiants\");"
   ]
  },
  {
   "cell_type": "markdown",
   "id": "7f4b3347",
   "metadata": {},
   "source": [
    "Avant de fermer ce notebook, enregistrons le jeu de données corrigé sur le disque. Pour cela, nous allons utiliser la fonction \"to_csv\" de Pandas :\n",
    "\n",
    "```\n",
    "df.to_csv(\"./student-2-corrected.csv\", index=False)\n",
    "```\n",
    "\n",
    "*Note : grâce à la commande \"index=False\", nous indiquons à Pandas que nous ne souhaitons pas enregistrer les numéros de lignes (= index).*"
   ]
  },
  {
   "cell_type": "code",
   "execution_count": null,
   "id": "84ab674e",
   "metadata": {},
   "outputs": [],
   "source": [
    "# Insère ton code ci-dessous et exécute la cellule\n"
   ]
  },
  {
   "cell_type": "markdown",
   "id": "4e8bca6a",
   "metadata": {},
   "source": [
    "Si tu regardes sur le disque, tu dois voir un nouveau fichier \"student-corrected.csv\" apparaitre là où sont stockés les scripts et la source de données !\n",
    "\n",
    "---\n",
    "\n",
    "Si tu es arrivé(e) jusqu'ici, félicitations 🙌\n",
    "\n",
    "Tu as corrigé les valeurs erronées dans le jeu de données ! Il nous reste encore quelques modifications et nous pourrons entrainer le modèle !\n",
    "\n",
    "[En route pour le notebook suivant !](./student-notebook-3-transform.ipynb)"
   ]
  }
 ],
 "metadata": {
  "kernelspec": {
   "display_name": "Python 3 (ipykernel)",
   "language": "python",
   "name": "python3"
  },
  "language_info": {
   "codemirror_mode": {
    "name": "ipython",
    "version": 3
   },
   "file_extension": ".py",
   "mimetype": "text/x-python",
   "name": "python",
   "nbconvert_exporter": "python",
   "pygments_lexer": "ipython3",
   "version": "3.9.5"
  }
 },
 "nbformat": 4,
 "nbformat_minor": 5
}
