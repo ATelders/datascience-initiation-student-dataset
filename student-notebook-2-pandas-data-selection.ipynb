{
 "cells": [
  {
   "cell_type": "markdown",
   "id": "0f5e7594",
   "metadata": {},
   "source": [
    "# La sélection de données grâce à Pandas\n",
    "\n",
    "Il n'est pas toujours aisé d'arriver à sélectionner les lignes et/ou colonnes que l'on souhaite lorsque l'on commence à utiliser la librairie Pandas. Voici les principales commandes à connaitre.\n",
    "\n",
    "Tout d'abord, nous allons importer la librairie :\n",
    "\n",
    "```\n",
    "import pandas as pd\n",
    "```"
   ]
  },
  {
   "cell_type": "code",
   "execution_count": null,
   "id": "b2c045f4",
   "metadata": {},
   "outputs": [],
   "source": [
    "# Insère ton code ci-dessous et exécute la cellule\n"
   ]
  },
  {
   "cell_type": "markdown",
   "id": "cbb3a853",
   "metadata": {},
   "source": [
    "Nous allons ensuite créér un DataFrame (= un tableau de données) qui nous servira pour la suite de ce notebook.\n",
    "\n",
    "\n",
    "```\n",
    "df = pd.DataFrame(data = {\"eleves\": [\"Amandine\", \"Arthur\", \"Benjamin\", \"Elisa\", \"Mathilde\", \"Perrine\", \"Pierre\"],\n",
    "                          \"age\": [20, 0, 21, 19, 20, 18, 5]}  )\n",
    "df\n",
    "```"
   ]
  },
  {
   "cell_type": "code",
   "execution_count": null,
   "id": "3547e68c",
   "metadata": {},
   "outputs": [],
   "source": [
    "# Insère ton code ci-dessous et exécute la cellule\n"
   ]
  },
  {
   "cell_type": "markdown",
   "id": "1f5d6a44",
   "metadata": {},
   "source": [
    "Maintenant que nous avons un DataFrame de départ, nous allons pouvoir aller chercher des valeurs à l'intérieur.\n",
    "\n",
    "---\n",
    "## L'instruction \"iloc\"\n",
    "\n",
    "Elle permet d'obtenir une valeur en donnant la position de l'index et éventuellement des colonnes que l'on souhaite afficher.\n",
    "\n",
    "Par exemple, pour afficher la ligne à l'index 2, il suffit d'indiquer :\n",
    "\n",
    "```\n",
    "df.iloc[2]\n",
    "```"
   ]
  },
  {
   "cell_type": "code",
   "execution_count": null,
   "id": "97b3e3ff",
   "metadata": {},
   "outputs": [],
   "source": [
    "# Insère ton code ci-dessous et exécute la cellule\n"
   ]
  },
  {
   "cell_type": "markdown",
   "id": "bb55af18",
   "metadata": {},
   "source": [
    "Python nous renvoie bien les 2 éléments de la ligne, le prénom (= Benjamin) et son âge (=19)\n",
    "\n",
    "---\n",
    "\n",
    "Recommençons la même opération en demandant les lignes de 1 à 3 :\n",
    "\n",
    "```\n",
    "df.iloc[1:3]\n",
    "```"
   ]
  },
  {
   "cell_type": "code",
   "execution_count": null,
   "id": "34527a63",
   "metadata": {},
   "outputs": [],
   "source": [
    "# Insère ton code ci-dessous et exécute la cellule\n"
   ]
  },
  {
   "cell_type": "markdown",
   "id": "f8fcd23b",
   "metadata": {},
   "source": [
    "Nous pouvons remarquer que Pandas exclut toujours la borne supérieure ! Si nous voulons vraiment récupérer les 3 lignes, il nous faut donc écrire :\n",
    "\n",
    "```\n",
    "df.iloc[1:4]\n",
    "```"
   ]
  },
  {
   "cell_type": "code",
   "execution_count": null,
   "id": "cf5e0833",
   "metadata": {},
   "outputs": [],
   "source": [
    "# Insère ton code ci-dessous et exécute la cellule\n"
   ]
  },
  {
   "cell_type": "markdown",
   "id": "dee0efa5",
   "metadata": {},
   "source": [
    "Si nous souhaitons ne récupérer les valeurs que pour une colonne en particulier, nous pouvons l'indiquer à Pandas ainsi :\n",
    "\n",
    "```\n",
    "df[\"eleves\"].iloc[1:4]\n",
    "```"
   ]
  },
  {
   "cell_type": "code",
   "execution_count": null,
   "id": "fb1b866c",
   "metadata": {},
   "outputs": [],
   "source": [
    "# Insère ton code ci-dessous et exécute la cellule\n"
   ]
  },
  {
   "cell_type": "markdown",
   "id": "12697074",
   "metadata": {},
   "source": [
    "Cette première méthode peut se lire ainsi :\n",
    "```\n",
    "df[\"eleves\"].iloc[1:4]\n",
    "```\n",
    "* df[\"eleves\"] => Dans la colonne \"eleves\",\n",
    "* .iloc[1:4] => Je souhaite obtenir toutes les valeurs entre 0 et 4 (exclus)\n",
    "---\n",
    "Une seconde méthode consiste à indiquer, à travers la fonction \"iloc\", les lignes et colonnes qui nous intéressent :\n",
    "\n",
    "```\n",
    "df.iloc[1:4, 0]\n",
    "```\n",
    "\n",
    "* 1:4 => désigne toujours les valeurs entre 0 et 4 (exclus)\n",
    "* 0 => désigne la première colonne\n",
    "\n",
    "**/!\\ il y a un ordre à respecter, nous indiquons d'abord les lignes, ensuite les colonnes.**"
   ]
  },
  {
   "cell_type": "code",
   "execution_count": null,
   "id": "f5425ea5",
   "metadata": {},
   "outputs": [],
   "source": [
    "# Insère ton code ci-dessous et exécute la cellule\n"
   ]
  },
  {
   "cell_type": "markdown",
   "id": "5e7fa33c",
   "metadata": {},
   "source": [
    "---\n",
    "## L'instruction \"loc\"\n",
    "\n",
    "Une autre méthode consiste à utiliser la fonction \"loc\" qui est très similaire. Cependant, au lien d'appeler les valeurs par leurs coordonnées \"numériques\", nous allons utiliser leurs noms.\n",
    "\n",
    "```\n",
    "df.loc[2, \"eleves\"]\n",
    "```"
   ]
  },
  {
   "cell_type": "code",
   "execution_count": null,
   "id": "af9c332d",
   "metadata": {},
   "outputs": [],
   "source": [
    "# Insère ton code ci-dessous et exécute la cellule\n"
   ]
  },
  {
   "cell_type": "markdown",
   "id": "f5d89d22",
   "metadata": {},
   "source": [
    "Cette méthode nous renvoie bien la valeur située dans le tableau à l'index = 2 de la colonne \"eleves\".\n",
    "\n",
    "Essaie de faire la même chose pour retrouve l'âge de la personne se situant à l'index 4:"
   ]
  },
  {
   "cell_type": "code",
   "execution_count": null,
   "id": "27c8c45f",
   "metadata": {},
   "outputs": [],
   "source": [
    "# Insère ton code ci-dessous et exécute la cellule\n"
   ]
  },
  {
   "cell_type": "markdown",
   "id": "609e5c31",
   "metadata": {},
   "source": [
    "De la même manière, nous pouvons demander plusieurs lignes en 1 seule fois :\n",
    "\n",
    "```\n",
    "df.loc[[0:3], \"eleves\"]\n",
    "```"
   ]
  },
  {
   "cell_type": "code",
   "execution_count": null,
   "id": "3ad21ee5",
   "metadata": {},
   "outputs": [],
   "source": [
    "# Insère ton code ci-dessous et exécute la cellule\n"
   ]
  },
  {
   "cell_type": "markdown",
   "id": "c36404a4",
   "metadata": {},
   "source": [
    "Nous pouvons d'ailleurs remarquer que la fonction \"loc\" renvoie toutes les valeurs entre 0 et 3 (y compris 3) ; il faut être vigilent !\n",
    "\n",
    "---\n",
    "## Sélection via des conditions / critères\n",
    "\n",
    "Parfois, lorsque l'on traite un grand nombre de données ou que l'on ignore à quelles places se trouvent les valeurs, il peut être utile de donner des critères à Pandas qui va effectuer la recherche pour nous.\n",
    "\n",
    "Par exemple, l'instruction ci-dessous demande à ce que Pandas nous renvoie uniquement les lignes du tableau pour les personnes ayant plus de 18 ans :\n",
    "\n",
    "```\n",
    "df[df[\"age\"] > 18]\n",
    "```"
   ]
  },
  {
   "cell_type": "code",
   "execution_count": null,
   "id": "ce7a7ab6",
   "metadata": {},
   "outputs": [],
   "source": [
    "# Insère ton code ci-dessous et exécute la cellule\n"
   ]
  },
  {
   "cell_type": "markdown",
   "id": "0e9b7594",
   "metadata": {},
   "source": [
    "Comme Perrine a 18 ans, elle n'a pas été inclue dans la sélection. Nous pouvons facilement corriger cela en utilisant \"supérieur ou égal\" :\n",
    "\n",
    "```\n",
    "df[df[\"age\"] >= 18]\n",
    "```"
   ]
  },
  {
   "cell_type": "code",
   "execution_count": null,
   "id": "a336da59",
   "metadata": {},
   "outputs": [],
   "source": [
    "# Insère ton code ci-dessous et exécute la cellule\n"
   ]
  },
  {
   "cell_type": "markdown",
   "id": "87cd19a7",
   "metadata": {},
   "source": [
    "Nous pouvons également demander à Pandas qu'il nous renvoie une seule valeur en particulier :\n",
    "\n",
    "```\n",
    "df[df[\"age\"] == 20]\n",
    "```"
   ]
  },
  {
   "cell_type": "code",
   "execution_count": null,
   "id": "4738ad73",
   "metadata": {},
   "outputs": [],
   "source": [
    "# Insère ton code ci-dessous et exécute la cellule\n"
   ]
  },
  {
   "cell_type": "markdown",
   "id": "9d8317fc",
   "metadata": {},
   "source": [
    "/!\\ Nous remarquons que nous avons utilisé deux signes \"=\" à la suite.\n",
    "\n",
    "Rappel :\n",
    "* si j'utilise \"variable = 2\", j'assigne la valeur 2 à la variable\n",
    "* si j'utilise \"variable == 2\", je teste si la variable est également à 2\n",
    "\n",
    "Tu peux tester cela en tapant la suite d'instructions suivante :\n",
    "\n",
    "**1ère cellule :** (tu assignes la valeur 2 à \"variable\")\n",
    "```\n",
    "variable = 2\n",
    "print (variable)\n",
    "```\n",
    "**2ème cellule :** (tu testes si la variable est bien égale à 2)\n",
    "```\n",
    "variable == 2\n",
    "```\n",
    "**3ème cellule :** (tu testes si la variable est bien égale à 2)\n",
    "```\n",
    "variable == 3\n",
    "```"
   ]
  },
  {
   "cell_type": "code",
   "execution_count": null,
   "id": "7513ac77",
   "metadata": {},
   "outputs": [],
   "source": [
    "# Cellule 1\n",
    "# Insère ton code ci-dessous et exécute la cellule\n"
   ]
  },
  {
   "cell_type": "code",
   "execution_count": null,
   "id": "ab013aff",
   "metadata": {},
   "outputs": [],
   "source": [
    "# Cellule 2\n",
    "# Insère ton code ci-dessous et exécute la cellule\n"
   ]
  },
  {
   "cell_type": "code",
   "execution_count": null,
   "id": "938763cd",
   "metadata": {},
   "outputs": [],
   "source": [
    "# Cellule 3\n",
    "# Insère ton code ci-dessous et exécute la cellule\n"
   ]
  },
  {
   "cell_type": "markdown",
   "id": "34f3f942",
   "metadata": {},
   "source": [
    "---\n",
    "## Correction de valeurs via des conditions / critères\n",
    "\n",
    "De la même manière que nous avons appris à sélectionner des valeurs, nous pouvons enrichir cette méthode pour filtrer **et corriger** des valeurs erronées.\n",
    "\n",
    "Par exemple, nous savons qu'Amandine a en fait \"21\" ans. Nous allons sélectionner la valeur correspondante et lui affecter la valeur 21.\n",
    "\n",
    "```\n",
    "df.loc[0, \"age\"] = 21\n",
    "\n",
    "df\n",
    "```"
   ]
  },
  {
   "cell_type": "code",
   "execution_count": null,
   "id": "274afe97",
   "metadata": {},
   "outputs": [],
   "source": [
    "# Insère ton code ci-dessous et exécute la cellule\n"
   ]
  },
  {
   "cell_type": "markdown",
   "id": "7ce45c3e",
   "metadata": {},
   "source": [
    "Désormais, l'âge d'Amandine est devenu 21 ans !\n",
    "\n",
    "---\n",
    "\n",
    "Cependant, dans la précédente manipulation, nous savions exactement quelle était la position de la valeur à corriger mais ce n'est pas toujours possible.\n",
    "\n",
    "Nous pouvons donc également demander à Pandas de faire une correction en fonction d'un critère.\n",
    "\n",
    "Par exemple, demandons à Pandas de passer à 18 tous les âges inférieurs à 10 car ce sont probablement des valeurs erronées :\n",
    "\n",
    "```\n",
    "df.loc[ df[\"age\"] < 10, \"age\" ] = 18\n",
    "\n",
    "df\n",
    "```\n",
    "\n",
    "Note : nous reprenons la même syntaxe mais au lieu d'indiquer l'index 0, nous demandons à Python de sélectionner toutes les lignes où la valeur de l'âge est inférieure à 10."
   ]
  },
  {
   "cell_type": "code",
   "execution_count": null,
   "id": "c33f4e12",
   "metadata": {},
   "outputs": [],
   "source": [
    "# Insère ton code ci-dessous et exécute la cellule\n"
   ]
  },
  {
   "cell_type": "markdown",
   "id": "e938c6d9",
   "metadata": {},
   "source": [
    "**Voilà ! Désormais, la sélection et la correction de valeurs dans Pandas n'a plus de secret pour toi !** 🙌"
   ]
  }
 ],
 "metadata": {
  "kernelspec": {
   "display_name": "Python 3 (ipykernel)",
   "language": "python",
   "name": "python3"
  },
  "language_info": {
   "codemirror_mode": {
    "name": "ipython",
    "version": 3
   },
   "file_extension": ".py",
   "mimetype": "text/x-python",
   "name": "python",
   "nbconvert_exporter": "python",
   "pygments_lexer": "ipython3",
   "version": "3.9.5"
  }
 },
 "nbformat": 4,
 "nbformat_minor": 5
}
